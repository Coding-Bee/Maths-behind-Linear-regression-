{
 "cells": [
  {
   "cell_type": "code",
   "execution_count": 1,
   "metadata": {},
   "outputs": [],
   "source": [
    "import numpy as np \n",
    "#Training Data set \n",
    "x = [6, 8, 10, 14, 18]\n",
    "y = [7, 9, 13, 17.5, 18] "
   ]
  },
  {
   "cell_type": "code",
   "execution_count": 2,
   "metadata": {},
   "outputs": [],
   "source": [
    "#find sum(x) , sum(y) , sum (xy), sum(x*x) sum(y*y) \n",
    "sum_x = np.sum(x) \n",
    "sum_y = np.sum(y) \n",
    "sum_xy = np.sum(np.multiply(x,y)) \n",
    "sum_xx = np.sum(np.multiply(x,x)) \n",
    "sum_yy = np.sum(np.multiply(y,y)) \n"
   ]
  },
  {
   "cell_type": "code",
   "execution_count": 3,
   "metadata": {},
   "outputs": [],
   "source": [
    "#print sum_x, sum_y,sum_xx, sum_xy, sum_yy \n",
    "#find the intercept values in the slope equation (Y = A + BX) \n",
    "number_of_records = len(x) \n",
    "A = (sum_y*sum_xx - sum_x*sum_xy)/(number_of_records*sum_xx - sum_x*sum_x) \n",
    "B = (number_of_records*sum_xy - sum_x*sum_y)/(number_of_records*sum_xx - sum_x*sum_x)"
   ]
  },
  {
   "cell_type": "code",
   "execution_count": 4,
   "metadata": {},
   "outputs": [],
   "source": [
    "#print A, B \n",
    "# find the price of pizaa (predict it) \n",
    "# x = 12 inch \n",
    "# y = A + BX \n",
    "diameter = 12 #for the value of the 12 inch pizza \n",
    "price = A + B*diameter "
   ]
  },
  {
   "cell_type": "code",
   "execution_count": 5,
   "metadata": {},
   "outputs": [
    {
     "name": "stdout",
     "output_type": "stream",
     "text": [
      "13.681034482758621\n"
     ]
    }
   ],
   "source": [
    "print (price) #prints 13.6810344818 "
   ]
  },
  {
   "cell_type": "code",
   "execution_count": null,
   "metadata": {},
   "outputs": [],
   "source": []
  }
 ],
 "metadata": {
  "kernelspec": {
   "display_name": "Python 3",
   "language": "python",
   "name": "python3"
  },
  "language_info": {
   "codemirror_mode": {
    "name": "ipython",
    "version": 3
   },
   "file_extension": ".py",
   "mimetype": "text/x-python",
   "name": "python",
   "nbconvert_exporter": "python",
   "pygments_lexer": "ipython3",
   "version": "3.7.1"
  }
 },
 "nbformat": 4,
 "nbformat_minor": 2
}
